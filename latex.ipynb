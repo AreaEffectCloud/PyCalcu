{
 "cells": [
  {
   "attachments": {},
   "cell_type": "markdown",
   "metadata": {},
   "source": [
    "$$\n",
    "    \\lim_{x \\to 0}{\\frac{\\cos{\\left(x π \\right)} + 1}{\\left(x - 1\\right)^{2}}} \\quad\n",
    "    \\sum_{k=1}^{n}{k^{2} = \\frac{1}{6} n \\left(n + 1\\right) \\left(2 n + 1\\right)} \\quad\n",
    "    \\frac{d}{dx}{xe^{- \\frac{x^{2}}{2}}} \\quad\n",
    "    \\int\\limits_{\\frac{π}{2}}^{\\frac{2 π}{3}}{\\frac{\\sin{\\left(x \\right)}}{\\sqrt{\\cos{\\left(x^{2} \\right)} + 1}}}{dx}\n",
    "$$"
   ]
  },
  {
   "attachments": {},
   "cell_type": "markdown",
   "metadata": {},
   "source": [
    "$$\n",
    "    a+\\frac{b}{c+\\cfrac{d}{e+\\cfrac{f}{g+\\cfrac{h}{i+\\cfrac{j}{k+\\cfrac{l}{m}}}}}}\n",
    "$$"
   ]
  },
  {
   "attachments": {},
   "cell_type": "markdown",
   "metadata": {},
   "source": [
    "$$\n",
    "    %根号\n",
    "    \\sqrt{mgh-2\\pi\\alpha\\beta} \\quad\n",
    "    %微分\n",
    "    \\frac{d}{d x} 5x^5-10x^3+23x-13 \\quad\n",
    "\n",
    "    %積分\n",
    "    \\int\\limits_{-\\frac{\\pi}{2}}^{\\frac{\\pi}{2}} {\\frac{1}{\\sin(x)\\cos{x ^ \\pi}\\tan{\\pi ^ x}} dx} \\quad\n",
    "$$"
   ]
  },
  {
   "attachments": {},
   "cell_type": "markdown",
   "metadata": {},
   "source": [
    "$$\\frac{\\sin{\\left(α + β \\right)}}{e γ - 56 β + \\log{\\left(α^{2} \\right)}}$$"
   ]
  }
 ],
 "metadata": {
  "kernelspec": {
   "display_name": "Python 3",
   "language": "python",
   "name": "python3"
  },
  "language_info": {
   "codemirror_mode": {
    "name": "ipython",
    "version": 3
   },
   "file_extension": ".py",
   "mimetype": "text/x-python",
   "name": "python",
   "nbconvert_exporter": "python",
   "pygments_lexer": "ipython3",
   "version": "3.10.2 (tags/v3.10.2:a58ebcc, Jan 17 2022, 14:12:15) [MSC v.1929 64 bit (AMD64)]"
  },
  "orig_nbformat": 4,
  "vscode": {
   "interpreter": {
    "hash": "767901852ebb8fecf086ef0af118555fdb967039604246c4073346c3252bd390"
   }
  }
 },
 "nbformat": 4,
 "nbformat_minor": 2
}
