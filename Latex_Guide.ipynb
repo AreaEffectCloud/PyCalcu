{
 "cells": [
  {
   "attachments": {},
   "cell_type": "markdown",
   "metadata": {},
   "source": [
    "$$\n",
    "    %根号\n",
    "    |\\boldsymbol{a}| = \\sqrt{a_0^2+a_1^2} = \\sqrt{mgh-2gr\\pi\\alpha\\beta} \\quad\n",
    "    \n",
    "    %和\n",
    "    a = \\sum_{i=\\infty}^{n}2i \\quad\n",
    "\n",
    "    \\sum_{i, j, k}^{}a_i+b_j+c_k \\quad\\\\\n",
    "\n",
    "    %極限\n",
    "    \\lim_{x \\to \\infty}\\frac{1}{x} = 0 \\quad \n",
    "    %分数\n",
    "    y = \\frac{2}{\\frac{\\sin{θ}}{\\frac{64}{\\frac{2}{5}}}} \\\\\n",
    "    %微分\n",
    "    \\frac{d}{d x} x^2 = 2x \\quad\n",
    "\n",
    "    %積分\n",
    "    \\int\\limits_{-\\frac{\\pi}{2}}^{} {\\frac{1}{\\sin(x)\\cos{x ^ \\pi}\\tan{\\pi ^ x}} dx} \\quad\n",
    "\n",
    "    \\log{e} + 1 \\quad \\sqrt{e^{e}} \\quad  \\frac{arcsin^{x + 1}}{78}\n",
    "$$"
   ]
  },
  {
   "attachments": {},
   "cell_type": "markdown",
   "metadata": {},
   "source": [
    "$$\n",
    "    %Dot and ギリシャ文字\n",
    "    \\dot{\n",
    "        \\alpha\\beta\\gamma\\delta\\epsilon\\zeta\\eta\\theta\\iota\\kappa\\lambda\\mu\\nu\\xi\\omicron\\pi\\rho\\sigma\\tau\\upsilon\\phi\\chi\\psi\\omega\n",
    "        } \\quad\n",
    "$$"
   ]
  },
  {
   "attachments": {},
   "cell_type": "markdown",
   "metadata": {},
   "source": [
    "$$\n",
    "    \\mathrm{Mg + 2HCl → MgCl_2 + H_2}\n",
    "$$"
   ]
  },
  {
   "attachments": {},
   "cell_type": "markdown",
   "metadata": {},
   "source": [
    "$$\n",
    "    a+\\frac{b}{c+\\cfrac{d}{e+\\cfrac{f}{g+\\cfrac{h}{i+\\cfrac{j}{k+\\cfrac{l}{m}}}}}}\n",
    "$$"
   ]
  },
  {
   "attachments": {},
   "cell_type": "markdown",
   "metadata": {},
   "source": [
    "$$\\frac{\\sin{\\left(α + β \\right)}}{e γ - 56 β + \\log{\\left(α^{2} \\right)}}$$"
   ]
  },
  {
   "attachments": {},
   "cell_type": "markdown",
   "metadata": {},
   "source": [
    "$$\n",
    "    \\int\\limits_{- \\frac{\\pi}{2}}^{\\frac{\\pi}{2}} \\frac{e^{\\sin{x}} \\sin{\\left(x^{2} \\right)}}{e^{x} + 1}\\, dx\n",
    "$$"
   ]
  },
  {
   "attachments": {},
   "cell_type": "markdown",
   "metadata": {},
   "source": [
    "$$\n",
    "    \\sin^{2}{y} - \\cos^{2}{x} \\quad\n",
    "\n",
    "    7^{2} + (8-3) * 8 \\quad\n",
    "\n",
    "    \\arcsin{x} = \\sin^{-1}{x} \\\\\n",
    "\n",
    "    \\sin{a\\tan{γα\\pi e}}\\\\\n",
    "\n",
    "    9999/9999999 \\quad \\frac{9999}{9999999}\\\\\n",
    "\n",
    "    \\frac{e  }{{\\frac{\\pi}{\\frac{25}{\\cos{\\theta}}}}} \\\\\n",
    "\n",
    "    cos{atan{πe^{2}}} \\quad cos{atan{πe^{2}}} ＋ 256^{100} － \\sqrt{a_2 - b_y + v_h} \\\\\n",
    "\n",
    "    \\frac{100}{e^{\\pi}} \\quad 100\\sqrt {6} \\\\\n",
    "\n",
    "    \\frac{1}{x^{2} \\left(x + 1\\right)} = \\frac{c}{x + 1} + \\frac{a x + b}{x^{2}}\\\\\n",
    "\n",
    "    \\frac{1}{x^{2} (x + 1)} = \\frac{c}{x + 1} + \\frac{a x + b}{x^{2}} \\\\\n",
    "$$"
   ]
  },
  {
   "attachments": {},
   "cell_type": "markdown",
   "metadata": {},
   "source": [
    "$$\n",
    "    \\frac{\\log{\\left(x^{d + 4} \\right)}}{78} \\quad\n",
    "    \\sqrt{x^{2} + 1} \\quad\n",
    "    \\frac{\\arctan{\\left(x^{π} \\right)}}{\\frac{e}{\\tan{\\left(x \\right)}} + 78}\\quad\n",
    "    \\frac{\\arctan{\\left(x^{\\pi} \\right)} \\tan{\\left(x \\right)}}{e} \\quad\n",
    "    \\arccos{\\left(x^{2} \\right)} \\quad\n",
    "    \\int{\\frac{1}{β}}dx\n",
    "$$"
   ]
  }
 ],
 "metadata": {
  "kernelspec": {
   "display_name": "Python 3",
   "language": "python",
   "name": "python3"
  },
  "language_info": {
   "codemirror_mode": {
    "name": "ipython",
    "version": 3
   },
   "file_extension": ".py",
   "mimetype": "text/x-python",
   "name": "python",
   "nbconvert_exporter": "python",
   "pygments_lexer": "ipython3",
   "version": "3.10.2 (tags/v3.10.2:a58ebcc, Jan 17 2022, 14:12:15) [MSC v.1929 64 bit (AMD64)]"
  },
  "orig_nbformat": 4,
  "vscode": {
   "interpreter": {
    "hash": "767901852ebb8fecf086ef0af118555fdb967039604246c4073346c3252bd390"
   }
  }
 },
 "nbformat": 4,
 "nbformat_minor": 2
}
