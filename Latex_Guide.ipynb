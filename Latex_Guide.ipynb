{
 "cells": [
  {
   "attachments": {},
   "cell_type": "markdown",
   "metadata": {},
   "source": [
    "$$\n",
    "    %根号\n",
    "    |\\boldsymbol{a}| = \\sqrt{a_0^2+a_1^2} \\quad\n",
    "    %和\n",
    "    a = \\sum_{i=\\infty}^{n}2i \\quad\n",
    "    %極限\n",
    "    \\lim_{x \\to \\infty}\\frac{1}{x} = 0 \\quad\n",
    "    %分数\n",
    "    y = \\frac{2}{3} \\quad\n",
    "    %微分\n",
    "    \\frac{d}{d x} x^2 = 2x \\quad\n",
    "    %積分\n",
    "    \\int\\limits_{- \\frac{e ^ \\pi}{2}}^{\\frac{e ^ \\pi}{2}} {\\frac{dx}{\\sin{x}\\cos{x ^ \\pi}\\tan{\\pi ^ x}}}\n",
    "$$"
   ]
  },
  {
   "attachments": {},
   "cell_type": "markdown",
   "metadata": {},
   "source": [
    "$$\n",
    "    %Dot and ギリシャ文字\n",
    "    \\dot{\\alpha\\beta\\gamma\\delta\\epsilon\\zeta\n",
    "    \\eta\\theta\\iota\\kappa\\lambda\\quad\n",
    "    \n",
    "    \\mu\\nu\\xi\\omicron\\pi\\rho\\sigma\\tau\n",
    "    \\upsilon\\phi\\chi\\psi\\omega} \\quad\n",
    "    %Log, ln\n",
    "    \\log{x} \\quad \\ln{x}\n",
    "$$"
   ]
  },
  {
   "attachments": {},
   "cell_type": "markdown",
   "metadata": {},
   "source": [
    "$$\n",
    "    \\mathrm{Mg + 2HCl → MgCl_2 + H_2}\n",
    "$$"
   ]
  },
  {
   "attachments": {},
   "cell_type": "markdown",
   "metadata": {},
   "source": [
    "$$\n",
    "%%%2行1列\n",
    "    % \"boldsymbol\"で太字にしている\n",
    "    \\boldsymbol{v} =\n",
    "        % ベクトルや行列は\"left[\"と\"right]\"でベクトルや行列の括弧を作る\n",
    "        % 括弧内に\"array\"環境を展開する\n",
    "        \\left[\\begin{array}{c}\n",
    "            2 \\\\\n",
    "            3 \\\\\n",
    "        \\end{array}\\right] \\quad\n",
    "\n",
    "%%%2行3列\n",
    "    % {c|cc}の形で中央揃え、縦線、中央揃え*2の並びに出来る\n",
    "    \\boldsymbol{M} =\n",
    "        \\left[\\begin{array}{c|cc}\n",
    "            % 横並びは&を挟む\n",
    "            1 & 2 & 4 \\\\\n",
    "            % 水平線は\\\\hlineを使う\n",
    "            \\hline\n",
    "            2 & 3 & 5 \\\\\n",
    "        \\end{array}\\right] \\quad\n",
    "$$"
   ]
  },
  {
   "attachments": {},
   "cell_type": "markdown",
   "metadata": {},
   "source": [
    "$$\n",
    "    \\boldsymbol{A} =\n",
    "        \\left[\\begin{array}{ccc}\n",
    "            a_{0,0} & \\cdots & a_{0,x} \\\\\n",
    "            \\vdots  & \\ddots & \\vdots \\\\\n",
    "            a_{y,0} & \\cdots & a_{y,x} \\\\\n",
    "        \\end{array}\\right]\n",
    "$$"
   ]
  },
  {
   "attachments": {},
   "cell_type": "markdown",
   "metadata": {},
   "source": [
    "$$\n",
    "    \\boldsymbol{E} =\n",
    "        \\left[\\begin{array}{ccccc}\n",
    "            1 & 0 & 0 & 0 & 0 \\\\\n",
    "            0 & 1 & 0 & 0 & 0 \\\\\n",
    "            0 & 0 & 1 & 0 & 0 \\\\\n",
    "            0 & 0 & 0 & 1 & 0 \\\\\n",
    "            0 & 0 & 0 & 0 & 1 \\\\\n",
    "        \\end{array}\\right]\n",
    "$$"
   ]
  },
  {
   "attachments": {},
   "cell_type": "markdown",
   "metadata": {},
   "source": [
    "$$\n",
    "    \\begin{align}\n",
    "        % 各種演算子の書き方\n",
    "        y &= ax     & y &> ax  & y \\geqq ax \\\\\n",
    "        y &\\neq ax  & y &< ax  & y \\leqq ax \\\\\n",
    "    \\end{align}\n",
    "$$"
   ]
  },
  {
   "attachments": {},
   "cell_type": "markdown",
   "metadata": {},
   "source": [
    "$$\n",
    "    % ローマン体にする\n",
    "    \\mathrm{ReLU}(x) =\n",
    "        \\begin{cases}\n",
    "            x \\quad x \\geqq 0 \\\\\n",
    "            0 \\quad x < 0 \\\\\n",
    "            e \\quad x = e ^ {i\\pi}\n",
    "        \\end{cases}\n",
    "$$"
   ]
  },
  {
   "attachments": {},
   "cell_type": "markdown",
   "metadata": {},
   "source": [
    "$$\n",
    "    \\vec{a} = \\vec{b} + \\vec{a} \\\\\n",
    "    \\overrightarrow{a} = \\overrightarrow{b} + \\overrightarrow{a} \\\\\n",
    "\n",
    "    \\vec{AD} = \\vec{AB} + \\vec{AC} \\\\\n",
    "    \\overrightarrow{AD} = \\overrightarrow{AB} + \\overrightarrow{AC}\n",
    "$$"
   ]
  },
  {
   "attachments": {},
   "cell_type": "markdown",
   "metadata": {},
   "source": [
    "$$\n",
    "    a+\\cfrac{b}{c+\\cfrac{d}{e+\\cfrac{f}{g+\\cfrac{h}{i+\\cfrac{j}{k+\\cfrac{l}{m}}}}}}\n",
    "$$"
   ]
  },
  {
   "attachments": {},
   "cell_type": "markdown",
   "metadata": {},
   "source": [
    "$$\n",
    "    \\begin{pmatrix}\n",
    "    a_{11} & \\cdots & a_{1i} & \\cdots & a_{1n}\\\\\n",
    "    \\vdots & \\ddots &        &        & \\vdots \\\\\n",
    "    a_{i1} &        & a_{ii} &        & a_{in} \\\\\n",
    "    \\vdots &        &        & \\ddots & \\vdots \\\\\n",
    "    a_{n1} & \\cdots & a_{ni} & \\cdots & a_{nn}\n",
    "    \\end{pmatrix}\n",
    "    \n",
    "    \\times\n",
    "    \n",
    "    \\begin{vmatrix}\n",
    "    a_{11} & \\cdots & a_{1i} & \\cdots & a_{1n}\\\\\n",
    "    \\vdots & \\ddots &        &        & \\vdots \\\\\n",
    "    a_{i1} &        & a_{ii} &        & a_{in} \\\\\n",
    "    \\vdots &        &        & \\ddots & \\vdots \\\\\n",
    "    a_{n1} & \\cdots & a_{ni} & \\cdots & a_{nn}\n",
    "    \\end{vmatrix}\n",
    "$$"
   ]
  },
  {
   "attachments": {},
   "cell_type": "markdown",
   "metadata": {},
   "source": [
    "$$\n",
    "    \\int\\limits_{- \\frac{\\pi}{2}}^{\\frac{\\pi}{2}} \\frac{e^{x} \\sin{\\left(x^{2} \\right)}}{e^{x} + 1}\\, dx\n",
    "$$"
   ]
  },
  {
   "attachments": {},
   "cell_type": "markdown",
   "metadata": {},
   "source": [
    "$$\n",
    "    \\sin{α}\n",
    "$$"
   ]
  }
 ],
 "metadata": {
  "kernelspec": {
   "display_name": "Python 3",
   "language": "python",
   "name": "python3"
  },
  "language_info": {
   "codemirror_mode": {
    "name": "ipython",
    "version": 3
   },
   "file_extension": ".py",
   "mimetype": "text/x-python",
   "name": "python",
   "nbconvert_exporter": "python",
   "pygments_lexer": "ipython3",
   "version": "3.10.2 (tags/v3.10.2:a58ebcc, Jan 17 2022, 14:12:15) [MSC v.1929 64 bit (AMD64)]"
  },
  "orig_nbformat": 4,
  "vscode": {
   "interpreter": {
    "hash": "767901852ebb8fecf086ef0af118555fdb967039604246c4073346c3252bd390"
   }
  }
 },
 "nbformat": 4,
 "nbformat_minor": 2
}
