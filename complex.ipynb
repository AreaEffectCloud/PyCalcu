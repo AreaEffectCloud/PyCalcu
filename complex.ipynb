{
 "cells": [
  {
   "cell_type": "code",
   "execution_count": 10,
   "metadata": {},
   "outputs": [
    {
     "data": {
      "text/plain": [
       "'\\\\sin{\\\\left(x^{2} \\\\right)}'"
      ]
     },
     "metadata": {},
     "output_type": "display_data"
    },
    {
     "data": {
      "image/png": "[encoded data removed]",
      "text/latex": [
       "$\\displaystyle \\frac{c}{x + 1} - \\frac{256 \\pi e}{i n s x^{2}} + \\frac{a x + b}{x^{2}} - \\frac{1}{x^{2} \\left(x + 1\\right)}$"
      ],
      "text/plain": [
       "  c     256⋅π⋅e    a⋅x + b       1     \n",
       "───── - ──────── + ─────── - ──────────\n",
       "x + 1          2       2      2        \n",
       "        i⋅n⋅s⋅x       x      x ⋅(x + 1)"
      ]
     },
     "metadata": {},
     "output_type": "display_data"
    },
    {
     "data": {
      "text/plain": [
       "'\\\\frac{c}{x + 1} - \\\\frac{256 \\\\pi e}{i n s x^{2}} + \\\\frac{a x + b}{x^{2}} - \\\\frac{1}{x^{2} \\\\left(x + 1\\\\right)}'"
      ]
     },
     "metadata": {},
     "output_type": "display_data"
    },
    {
     "data": {
      "image/png": "[encoded data removed]",
      "text/latex": [
       "$\\displaystyle x \\sqrt{x^{2} + 1}$"
      ],
      "text/plain": [
       "     ________\n",
       "    ╱  2     \n",
       "x⋅╲╱  x  + 1 "
      ]
     },
     "metadata": {},
     "output_type": "display_data"
    },
    {
     "data": {
      "image/png": "[encoded data removed]",
      "text/latex": [
       "$\\displaystyle \\frac{x^{2} \\sqrt{x^{2} + 1}}{3} + \\frac{\\sqrt{x^{2} + 1}}{3}$"
      ],
      "text/plain": [
       "      ________      ________\n",
       " 2   ╱  2          ╱  2     \n",
       "x ⋅╲╱  x  + 1    ╲╱  x  + 1 \n",
       "────────────── + ───────────\n",
       "      3               3     "
      ]
     },
     "metadata": {},
     "output_type": "display_data"
    },
    {
     "data": {
      "image/png": "[encoded data removed]",
      "text/latex": [
       "$\\displaystyle \\frac{2 \\left(x^{2} + 1\\right)^{\\frac{3}{2}}}{3}$"
      ],
      "text/plain": [
       "          3/2\n",
       "  ⎛ 2    ⎞   \n",
       "2⋅⎝x  + 1⎠   \n",
       "─────────────\n",
       "      3      "
      ]
     },
     "metadata": {},
     "output_type": "display_data"
    },
    {
     "data": {
      "image/png": "[encoded data removed]",
      "text/latex": [
       "$\\displaystyle 2 x \\sqrt{x^{2} + 1}$"
      ],
      "text/plain": [
       "       ________\n",
       "      ╱  2     \n",
       "2⋅x⋅╲╱  x  + 1 "
      ]
     },
     "metadata": {},
     "output_type": "display_data"
    }
   ],
   "source": [
    "import sympy\n",
    "sympy.init_printing()\n",
    "#All alphabets\n",
    "(a,b,c,d,e,f,g,h,i,j,k,l,m,n,o,p,q,r,s,t,u,v,w,x,y,z) = sympy.symbols('a b c d e f g h i j k l m n o p q r s t u v w x y z')\n",
    "\n",
    "y = (sympy.sin(x ** 2))\n",
    "display(sympy.latex(y))\n",
    "\n",
    "X = x * x + y * y - 1\n",
    "Y = x - y + sympy.Rational(1, 2)\n",
    "sympy.solve([X, Y], [x, y])\n",
    "\n",
    "F = (a * x + b) / (x ** 2) + c / (x + 1) - 1 / (x ** 2 * (x + 1)) - e / (s * i * n *(x ** 2) / sympy.pi / 256)\n",
    "display(F)\n",
    "display(sympy.latex(F))\n",
    "\n",
    "i = x * sympy.sqrt(x ** 2 + 1)\n",
    "display(i)\n",
    "display(sympy.integrate(i, x))\n",
    "\n",
    "B = sympy.Rational(2, 3) * (x**2 + 1) ** sympy.Rational(3, 2)\n",
    "display(B)\n",
    "Db = sympy.Derivative(B, x).doit()\n",
    "display(Db)"
   ]
  },
  {
   "cell_type": "code",
   "execution_count": 1,
   "metadata": {},
   "outputs": [
    {
     "data": {
      "text/latex": [
       "$\\displaystyle \\frac{\\cos{\\left(\\pi x \\right)} + \\frac{\\left(x - 1\\right) \\left(x + 2\\right) \\left(x^{2} + 2 x + 1\\right) \\left(x^{5} + x + 1\\right)}{\\left(x - 2\\right)^{2}}}{\\left(x + y + \\frac{z}{2}\\right)^{4} + \\frac{e^{x} \\log{\\left(x^{2} + 1 \\right)}}{x^{10} \\left(x + y\\right)^{3}}}$"
      ],
      "text/plain": [
       "(cos(pi*x) + (x - 1)*(x + 2)*(x**2 + 2*x + 1)*(x**5 + x + 1)/(x - 2)**2)/((x + y + z/2)**4 + exp(x)*log(x**2 + 1)/(x**10*(x + y)**3))"
      ]
     },
     "metadata": {},
     "output_type": "display_data"
    },
    {
     "data": {
      "text/plain": [
       "[-1/2 - sqrt(3)*I/2,\n",
       " -1/2 + sqrt(3)*I/2,\n",
       " 1/3 - 1/(3*(-1/2 - sqrt(3)*I/2)*(3*sqrt(69)/2 + 25/2)**(1/3)) - (-1/2 - sqrt(3)*I/2)*(3*sqrt(69)/2 + 25/2)**(1/3)/3,\n",
       " 1/3 - (-1/2 + sqrt(3)*I/2)*(3*sqrt(69)/2 + 25/2)**(1/3)/3 - 1/(3*(-1/2 + sqrt(3)*I/2)*(3*sqrt(69)/2 + 25/2)**(1/3)),\n",
       " -(3*sqrt(69)/2 + 25/2)**(1/3)/3 - 1/(3*(3*sqrt(69)/2 + 25/2)**(1/3)) + 1/3]"
      ]
     },
     "metadata": {},
     "output_type": "display_data"
    },
    {
     "data": {
      "text/plain": [
       "'\\\\left[ - \\\\frac{1}{2} - \\\\frac{\\\\sqrt{3} i}{2}, \\\\  - \\\\frac{1}{2} + \\\\frac{\\\\sqrt{3} i}{2}, \\\\  \\\\frac{1}{3} - \\\\frac{1}{3 \\\\left(- \\\\frac{1}{2} - \\\\frac{\\\\sqrt{3} i}{2}\\\\right) \\\\sqrt[3]{\\\\frac{3 \\\\sqrt{69}}{2} + \\\\frac{25}{2}}} - \\\\frac{\\\\left(- \\\\frac{1}{2} - \\\\frac{\\\\sqrt{3} i}{2}\\\\right) \\\\sqrt[3]{\\\\frac{3 \\\\sqrt{69}}{2} + \\\\frac{25}{2}}}{3}, \\\\  \\\\frac{1}{3} - \\\\frac{\\\\left(- \\\\frac{1}{2} + \\\\frac{\\\\sqrt{3} i}{2}\\\\right) \\\\sqrt[3]{\\\\frac{3 \\\\sqrt{69}}{2} + \\\\frac{25}{2}}}{3} - \\\\frac{1}{3 \\\\left(- \\\\frac{1}{2} + \\\\frac{\\\\sqrt{3} i}{2}\\\\right) \\\\sqrt[3]{\\\\frac{3 \\\\sqrt{69}}{2} + \\\\frac{25}{2}}}, \\\\  - \\\\frac{\\\\sqrt[3]{\\\\frac{3 \\\\sqrt{69}}{2} + \\\\frac{25}{2}}}{3} - \\\\frac{1}{3 \\\\sqrt[3]{\\\\frac{3 \\\\sqrt{69}}{2} + \\\\frac{25}{2}}} + \\\\frac{1}{3}\\\\right]'"
      ]
     },
     "metadata": {},
     "output_type": "display_data"
    },
    {
     "data": {
      "text/plain": [
       "{x: 127/35, y: -1/35, z: -17/10}"
      ]
     },
     "metadata": {},
     "output_type": "display_data"
    },
    {
     "data": {
      "text/latex": [
       "$\\displaystyle \\frac{\\sin{\\left(x^{2} \\right)}}{1 + e^{- x}}$"
      ],
      "text/plain": [
       "sin(x**2)/(1 + exp(-x))"
      ]
     },
     "metadata": {},
     "output_type": "display_data"
    },
    {
     "data": {
      "text/latex": [
       "$\\displaystyle \\int\\limits_{- \\frac{\\pi}{2}}^{\\frac{\\pi}{2}} \\frac{e^{x} \\sin{\\left(x^{2} \\right)}}{e^{x} + 1}\\, dx$"
      ],
      "text/plain": [
       "Integral(exp(x)*sin(x**2)/(exp(x) + 1), (x, -pi/2, pi/2))"
      ]
     },
     "execution_count": 1,
     "metadata": {},
     "output_type": "execute_result"
    }
   ],
   "source": [
    "import sympy\n",
    "\n",
    "Pi = sympy.S.Pi # 円周率\n",
    "E = sympy.S.Exp1 # 自然対数の底\n",
    "I = sympy.S.ImaginaryUnit # 虚数単位\n",
    "\n",
    "(a,b,c,d,e,f,g,h,i,j,k,l,m,n,o,p,q,r,s,t,u,v,w,x,y,z) = sympy.symbols('a b c d e f g h i j k l m n o p q r s t u v w x y z')\n",
    "\n",
    "F1 = x * x + 2 * x + 1 # 普通にシンボルを演算するだけ\n",
    "F2 = x ** 5 + x + 1 # 高次式\n",
    "F3 = (x + 2) * (x - 1) / ((x - 2) * (x - 2)) # 有理関数\n",
    "F4 = sympy.cos(Pi * x) # 三角関数\n",
    "F5 = sympy.exp(x) / sympy.Pow(x, 10) # 指数関数とべき乗\n",
    "F6 = sympy.log(x * x + 1) # 対数関数\n",
    "F7 = (x + y) ** 3 # 2変数関数\n",
    "F8 = (x + y + z / 2) ** 4 # 多変数関数\n",
    "\n",
    "#display((F1*F2*F3+F4)/(F5*F6/F7+F8))\n",
    "\n",
    "display(sympy.solve(F2, x)) # F2 = x ** 5 + x + 1)\n",
    "display(sympy.latex(sympy.solve(F2, x)))\n",
    "\n",
    "F10 = 2*x + 2*y + 6*z + 3\n",
    "F11 =   x +   y - 2*z - 7\n",
    "F12 = 5*x - 9*y + 2*z - 15\n",
    "display(sympy.solve([F10, F11, F12], [x, y, z]))\n",
    "\n",
    "#定積分\n",
    "x = sympy.Symbol('x')\n",
    "display(sympy.sin(x ** 2) / (E ** (-x) + 1))\n",
    "y = sympy.sin(x ** 2) / (E ** (-x) + 1)\n",
    "sympy.integrate(y, (x, -(Pi / 2), Pi / 2))"
   ]
  },
  {
   "cell_type": "markdown",
   "metadata": {},
   "source": [
    "$$\n",
    "    - \\frac{2 e^{- 2 x} \\sin{\\left(3 x \\right)}}{13} - \\frac{3 e^{- 2 x} \\cos{\\left(3 x \\right)}}{13} +C\n",
    "$$"
   ]
  },
  {
   "cell_type": "markdown",
   "metadata": {},
   "source": [
    "$$\n",
    "    - \\frac{2 e^{- 2 x} \\sin{\\left(3 x \\right)}}{13} - \\frac{3 e^{- 2 x} \\cos{\\left(3 x \\right)}}{13} +C\n",
    "$$"
   ]
  },
  {
   "attachments": {},
   "cell_type": "markdown",
   "metadata": {},
   "source": [
    "$$\n",
    "    \\log{\\left(\\tan{\\left(\\frac{x}{2} \\right)} + 1 \\right)} \\quad \\sqrt[2]{x ^ {n}}\n",
    "$$"
   ]
  },
  {
   "cell_type": "code",
   "execution_count": 16,
   "metadata": {},
   "outputs": [
    {
     "name": "stdout",
     "output_type": "stream",
     "text": [
      "[Sympify (* , **) : ] 4*k**2 - 35*k + 165484\n",
      "[LaTex : ] 4 k^{2} - 35 k + 165484\n",
      "Width(横) :  826 Height(縦) :  93\n"
     ]
    }
   ],
   "source": [
    "from PIL import Image\n",
    "import sympy\n",
    "from sympy import sympify\n",
    "formula = r\"\"\"$$e^{\\alpha\\beta\\gamma\\delta\\epsilon\\zeta\\eta\\theta\\phi\\chi\\psi\\omega}$$\"\"\"\n",
    "formula = r\"\"\"$$\\sum_{k=0}^{4}{4k^{2}-35k+165484}$$\"\"\"\n",
    "#formula = r\"\"\"$$x^{a}+y^{b} = z^{c}$$\"\"\"\n",
    "#formula = r\"\"\"$$a+\\frac{b}{c+\\cfrac{d}{e+\\cfrac{f}{g+\\cfrac{h}{i+\\cfrac{j}{k+\\cfrac{l}{m}}}}}}$$\"\"\"\n",
    "\n",
    "test = sympify(\"4*k**(2)-35*k+165484\", convert_xor=True, evaluate=True)\n",
    "print(\"[Sympify (* , **) : ]\", test)\n",
    "test = sympy.latex(test)\n",
    "print(\"[LaTex : ]\", test)\n",
    "formula = r\"\"\"$${0}$$\"\"\".format(test)\n",
    "\n",
    "#Preview は、*アスタリスク不要\n",
    "sympy.preview(formula, viewer=\"file\", filename=\"output_images/formula.png\", euler=False, dvioptions=[\"-T\", \"tight\", \"-z\", \"0\", \"--truecolor\", \"-D 600\"])\n",
    "\n",
    "#画像の大きさに応じて、縦を調整\n",
    "im = Image.open(\"output_images/formula.png\")\n",
    "width, height = im.size\n",
    "print(\"Width(横) : \", width, \"Height(縦) : \", height)\n",
    "if height > 260:\n",
    "        #縦の大きさを260に指定\n",
    "        size = (width, 260)\n",
    "        im.thumbnail(size)\n",
    "        out_dim = im.size\n",
    "        out_name = \"resized-\" + str(out_dim[0]) + \"-\" + str(out_dim[1]) + \".png\"\n",
    "        im.save(\"output_images/\" + out_name, \"PNG\")\n",
    "im.close()"
   ]
  }
 ],
 "metadata": {
  "kernelspec": {
   "display_name": "Python 3.10.2 64-bit",
   "language": "python",
   "name": "python3"
  },
  "language_info": {
   "codemirror_mode": {
    "name": "ipython",
    "version": 3
   },
   "file_extension": ".py",
   "mimetype": "text/x-python",
   "name": "python",
   "nbconvert_exporter": "python",
   "pygments_lexer": "ipython3",
   "version": "3.10.2"
  },
  "orig_nbformat": 4,
  "vscode": {
   "interpreter": {
    "hash": "767901852ebb8fecf086ef0af118555fdb967039604246c4073346c3252bd390"
   }
  }
 },
 "nbformat": 4,
 "nbformat_minor": 2
}
